{
  "nbformat": 4,
  "nbformat_minor": 0,
  "metadata": {
    "colab": {
      "private_outputs": true,
      "provenance": []
    },
    "kernelspec": {
      "name": "python3",
      "display_name": "Python 3"
    },
    "language_info": {
      "name": "python"
    }
  },
  "cells": [
    {
      "cell_type": "markdown",
      "source": [
        "In this notebook, we will use time series analysis techniques on Sentinel-1 GRD images to predict floods. \n",
        "\n",
        "Time series analysis of Sentinel-1 Ground Range Detected (GRD) images has emerged as a powerful technique for flood prediction and monitoring. Sentinel-1 is a constellation of European Space Agency (ESA) satellites that provide high-quality Synthetic Aperture Radar (SAR) data with high temporal and spatial resolution. This makes Sentinel-1 an ideal data source for studying floods, which are highly dynamic and often occur in remote or hard-to-reach areas."
      ],
      "metadata": {
        "id": "j04AMLMmyP-G"
      }
    },
    {
      "cell_type": "code",
      "source": [
        "# installing requirement\n",
        "!pip install rasterio\n",
        "!pip install datetime"
      ],
      "metadata": {
        "id": "VZt7PiFDkVRZ"
      },
      "execution_count": null,
      "outputs": []
    },
    {
      "cell_type": "code",
      "execution_count": null,
      "metadata": {
        "id": "1YDA0KeUx3gJ"
      },
      "outputs": [],
      "source": [
        "# importing libraries\n",
        "import os\n",
        "import rasterio\n",
        "import numpy as np\n",
        "import pandas as pd\n",
        "import matplotlib.pyplot as plt\n",
        "from sklearn.linear_model import LinearRegression"
      ]
    },
    {
      "cell_type": "code",
      "source": [
        "# mounting with google drive\n",
        "from google.colab import drive\n",
        "drive.mount('/content/drive')"
      ],
      "metadata": {
        "id": "OlkH3yg1RoUS"
      },
      "execution_count": null,
      "outputs": []
    },
    {
      "cell_type": "code",
      "source": [
        "# Read multiple GeoTIFF files and stack them along the time dimension\n",
        "def read_data(data_dir, filenames):\n",
        "    data = []\n",
        "    for filename in filenames:\n",
        "        with rasterio.open(os.path.join(data_dir, filename)) as src:\n",
        "            data.append(src.read(1))\n",
        "    return np.stack(data, axis=0)"
      ],
      "metadata": {
        "id": "iksE49poE0QR"
      },
      "execution_count": null,
      "outputs": []
    },
    {
      "cell_type": "code",
      "source": [
        "# Compute intensity time-series as the mean value over time\n",
        "def compute_intensity(time_series):\n",
        "    return np.mean(time_series, axis=(1, 2))"
      ],
      "metadata": {
        "id": "ffRGgp_z82-S"
      },
      "execution_count": null,
      "outputs": []
    },
    {
      "cell_type": "code",
      "source": [
        "# Fit a linear regression model to the time-series and plot the results\n",
        "def plot_linear_regression(time_series, title):\n",
        "    X = np.arange(len(time_series)).reshape(-1, 1)\n",
        "    y = compute_intensity(time_series)\n",
        "    model = LinearRegression().fit(X, y)\n",
        "    plt.plot(X, y, label='Data')\n",
        "    plt.plot(X, model.predict(X), label='Linear Regression')\n",
        "    plt.title(title)\n",
        "    plt.legend()\n",
        "    plt.savefig(f'{title}.png')\n",
        "    plt.close()"
      ],
      "metadata": {
        "id": "hTZFaTgXTMYr"
      },
      "execution_count": null,
      "outputs": []
    },
    {
      "cell_type": "code",
      "source": [
        "# Fit a linear regression model to the time-series and return the coefficient\n",
        "def compute_linear_regression(time_series):\n",
        "    X = np.arange(len(time_series)).reshape(-1, 1)\n",
        "    y = compute_intensity(time_series)\n",
        "    model = LinearRegression().fit(X, y)\n",
        "    return model.coef_[0]"
      ],
      "metadata": {
        "id": "Jvd0IPkB89qJ"
      },
      "execution_count": null,
      "outputs": []
    },
    {
      "cell_type": "code",
      "source": [
        "# Write a numpy array to disk as a CSV file\n",
        "def write_results(data, filename):\n",
        "    df = pd.DataFrame(data)\n",
        "    df.to_csv(filename, index=False)"
      ],
      "metadata": {
        "id": "Gx9H8erh9AQ4"
      },
      "execution_count": null,
      "outputs": []
    },
    {
      "cell_type": "code",
      "source": [
        "def study_and_predict_flood(data_dir, before_vv_filenames, before_vh_filenames, during_vv_filenames, during_vh_filenames, after_vv_filenames, after_vh_filenames):\n",
        "    # Read time-series data for before, during, and after floods\n",
        "    before_time_series = read_data(data_dir, before_vv_filenames + before_vh_filenames)\n",
        "    during_time_series = read_data(data_dir, during_vv_filenames + during_vh_filenames)\n",
        "    after_time_series = read_data(data_dir, after_vv_filenames + after_vh_filenames)\n",
        "\n",
        "    # Compute intensity time-series for before, during, and after floods\n",
        "    before_intensity = compute_intensity(before_time_series)\n",
        "    during_intensity = compute_intensity(during_time_series)\n",
        "    after_intensity = compute_intensity(after_time_series)\n",
        "\n",
        "    # Plot linear regression for before flood intensity time-series\n",
        "    plot_linear_regression(before_time_series, 'Before Flood')\n",
        "\n",
        "    # Plot linear regression for during flood intensity time-series\n",
        "    plot_linear_regression(during_time_series, 'During Flood')\n",
        "\n",
        "    # Plot linear regression for after flood intensity time-series\n",
        "    plot_linear_regression(after_time_series, 'After Flood')\n",
        "\n",
        "    # Predict likelihood of flood based on linear regression\n",
        "    before_coef = compute_linear_regression(before_time_series)\n",
        "    during_coef = compute_linear_regression(during_time_series)\n",
        "    after_coef = compute_linear_regression(after_time_series)\n",
        "\n",
        "    # Write results to disk\n",
        "    write_results(before_intensity, 'before_intensity.csv')\n",
        "    write_results(during_intensity, 'during_intensity.csv')\n",
        "    write_results(after_intensity, 'after_intensity.csv')\n",
        "    write_results([before_coef, during_coef, after_coef], 'linear_regression_coefficients.csv')"
      ],
      "metadata": {
        "id": "grORwxSx9uHc"
      },
      "execution_count": null,
      "outputs": []
    },
    {
      "cell_type": "code",
      "source": [
        "# specification of input data files and directory path\n",
        "data_dir = '/content/drive/My Drive/satellite_data/all_processed'\n",
        "\n",
        "before_vv_filenames = ['before_flood_VV.tif']\n",
        "before_vh_filenames = ['before_flood_VH.tif']\n",
        "during_vh_filenames = ['during_flood_VH.tif']\n",
        "during_vv_filenames = ['during_flood_VV.tif']\n",
        "after_vv_filenames = ['after_flood_VV.tif']\n",
        "after_vh_filenames = ['after_flood_VH.tif']"
      ],
      "metadata": {
        "id": "Pc_iygY6UpYq"
      },
      "execution_count": null,
      "outputs": []
    },
    {
      "cell_type": "code",
      "source": [
        "study_and_predict_flood(data_dir, before_vv_filenames, before_vh_filenames, during_vv_filenames, during_vh_filenames, after_vv_filenames, after_vh_filenames)"
      ],
      "metadata": {
        "id": "38FrXJgkG173"
      },
      "execution_count": null,
      "outputs": []
    },
    {
      "cell_type": "code",
      "source": [
        "before_intensity = pd.read_csv('before_intensity.csv')\n",
        "during_intensity = pd.read_csv('during_intensity.csv')\n",
        "after_intensity = pd.read_csv('after_intensity.csv')\n",
        "linear_regression_coefficients = pd.read_csv('linear_regression_coefficients.csv')"
      ],
      "metadata": {
        "id": "tOYlTMsm_n1d"
      },
      "execution_count": null,
      "outputs": []
    },
    {
      "cell_type": "code",
      "source": [
        "# Plot intensity time-series\n",
        "plt.plot(before_intensity, label='Before Flood(2028/06/10)')\n",
        "plt.plot(during_intensity, label='During Flood(2018/07/28)')\n",
        "plt.plot(after_intensity, label='After Flood(2018/10/20)')\n",
        "plt.legend()\n",
        "plt.show()"
      ],
      "metadata": {
        "id": "9P_gxRCc_3t3"
      },
      "execution_count": null,
      "outputs": []
    },
    {
      "cell_type": "markdown",
      "source": [
        "The intensity time series plot above provides a graphical representation of the changes in the intensity of a particular variable over time. \n",
        "\n",
        "Based on the given statement, the before flood line lies between during flood and after flood lines, indicating that the intensity of the variable increases before the flood, reaches its peak during the flood, and decreases after the flood. This pattern may have significant implications for the variable being measured and its effects on the surrounding environment. Understanding the changes in intensity before, during, and after the flood can be crucial in predicting the impact of floods on the ecosystem and developing effective management strategies. "
      ],
      "metadata": {
        "id": "cKe869GLYg0I"
      }
    },
    {
      "cell_type": "code",
      "source": [
        "# Plot linear regression coefficients\n",
        "plt.plot(linear_regression_coefficients, marker='o')\n",
        "plt.xticks([0, 1, 2], ['Before', 'During', 'After'])\n",
        "plt.ylabel('Linear Regression Coefficient')\n",
        "plt.show()"
      ],
      "metadata": {
        "id": "OafknNL-_8T-"
      },
      "execution_count": null,
      "outputs": []
    },
    {
      "cell_type": "markdown",
      "source": [
        "The linear coefficients before, during, and after a flood indicate the magnitude and direction of changes in various factors such as water level, flow rate, sediment transport, and water quality. \n",
        "\n",
        "Based on the given statement, the linear coefficient before the flood is greater than during the flood, which suggests that the rate of change in these factors before the flood is higher than during the flood. \n",
        "The linear coefficients before, during, and after a flood indicate the magnitude and direction of changes in various factors such as water level, flow rate, sediment transport, and water quality. \n",
        "Based on the given statement, the linear coefficient before the flood is greater than during the flood, which suggests that the rate of change in these factors before the flood is higher than during the flood."
      ],
      "metadata": {
        "id": "9eqBQm5PXLom"
      }
    }
  ]
}